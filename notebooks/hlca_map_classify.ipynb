{
 "cells": [
  {
   "cell_type": "markdown",
   "metadata": {},
   "source": [
    "# Querying human lung cell atlas to classify query cells"
   ]
  },
  {
   "cell_type": "markdown",
   "metadata": {},
   "source": [
    "In this tutorial we will show how to map and classify data using the [Human Lung Cell Atlas](https://www.biorxiv.org/content/10.1101/2022.03.10.483747v1) as a reference. We use the scANVI model and KNN classifier from scArches to perform batch correction, query cell classification and label transfer.\n",
    "\n",
    "In our mappings we will also display five different levels of cell annotation and their uncertainties.\n",
    "\n",
    "Initial version of this notebook was compiled by Lisa Sikemma."
   ]
  },
  {
   "cell_type": "markdown",
   "metadata": {},
   "source": [
    "## Setup"
   ]
  },
  {
   "cell_type": "markdown",
   "metadata": {},
   "source": [
    "### Import libraries and set figure parameters"
   ]
  },
  {
   "cell_type": "code",
   "execution_count": 3,
   "metadata": {},
   "outputs": [],
   "source": [
    "import os\n",
    "\n",
    "import warnings\n",
    "warnings.simplefilter(action=\"ignore\", category=FutureWarning)\n",
    "warnings.simplefilter(action=\"ignore\", category=DeprecationWarning)\n",
    "warnings.simplefilter(action=\"ignore\", category=UserWarning)"
   ]
  },
  {
   "cell_type": "code",
   "execution_count": 4,
   "metadata": {},
   "outputs": [
    {
     "name": "stderr",
     "output_type": "stream",
     "text": [
      "WARNING:root:In order to use sagenet models, please install pytorch geometric (see https://pytorch-geometric.readthedocs.io) and \n",
      " captum (see https://github.com/pytorch/captum).\n",
      "INFO:pytorch_lightning.utilities.seed:Global seed set to 0\n",
      "/home/icb/aleksandra.topalova/miniconda3/lib/python3.9/site-packages/pytorch_lightning/utilities/warnings.py:53: LightningDeprecationWarning: pytorch_lightning.utilities.warnings.rank_zero_deprecation has been deprecated in v1.6 and will be removed in v1.8. Use the equivalent function from the pytorch_lightning.utilities.rank_zero module instead.\n",
      "  new_rank_zero_deprecation(\n",
      "/home/icb/aleksandra.topalova/miniconda3/lib/python3.9/site-packages/pytorch_lightning/utilities/warnings.py:58: LightningDeprecationWarning: The `pytorch_lightning.loggers.base.rank_zero_experiment` is deprecated in v1.7 and will be removed in v1.9. Please use `pytorch_lightning.loggers.logger.rank_zero_experiment` instead.\n",
      "  return new_rank_zero_deprecation(*args, **kwargs)\n"
     ]
    }
   ],
   "source": [
    "import scanpy as sc\n",
    "import numpy as np\n",
    "import pandas as pd\n",
    "import scarches as sca\n",
    "import gdown\n",
    "import gzip\n",
    "import shutil"
   ]
  },
  {
   "cell_type": "code",
   "execution_count": 5,
   "metadata": {},
   "outputs": [],
   "source": [
    "sc.settings.set_figure_params(dpi=200, frameon=False)\n",
    "sc.set_figure_params(dpi=200)\n",
    "sc.set_figure_params(figsize=(4, 4))"
   ]
  },
  {
   "cell_type": "markdown",
   "metadata": {},
   "source": [
    "### Set relevant anndata.obs labels, training/surgery length and kwargs"
   ]
  },
  {
   "cell_type": "markdown",
   "metadata": {},
   "source": [
    "Here we use an example [dataset](https://www.ncbi.nlm.nih.gov/geo/query/acc.cgi?acc=GSE171668) from the [Delorey et al. publication](  https://www.nature.com/articles/s41586-021-03570-8.). We only use the fresh, single-cell sample from this dataset."
   ]
  },
  {
   "cell_type": "code",
   "execution_count": 6,
   "metadata": {},
   "outputs": [],
   "source": [
    "batch_key = 'dataset'\n",
    "query_batch = ['test_dataset_delorey_regev']"
   ]
  },
  {
   "cell_type": "code",
   "execution_count": 7,
   "metadata": {},
   "outputs": [],
   "source": [
    "surgery_epochs = 500\n",
    "early_stopping_kwargs_surgery = {\n",
    "    \"early_stopping_monitor\": \"elbo_train\",\n",
    "    \"early_stopping_patience\": 10,\n",
    "    \"early_stopping_min_delta\": 0.001,\n",
    "    \"plan_kwargs\": {\"weight_decay\": 0.0},\n",
    "}"
   ]
  },
  {
   "cell_type": "markdown",
   "metadata": {},
   "source": [
    "### Download reference model and atlas"
   ]
  },
  {
   "cell_type": "markdown",
   "metadata": {},
   "source": [
    "If you haven't done so already, download the HLCA core reference model and embedding that are available on zenodo (doi: 10.5281/zenodo.6337966, see https://zenodo.org/record/6337966#.Yid5Vi9Q28U)."
   ]
  },
  {
   "cell_type": "code",
   "execution_count": 8,
   "metadata": {},
   "outputs": [],
   "source": [
    "url = 'https://zenodo.org/record/6337966/files/HLCA_emb_and_metadata.h5ad'\n",
    "output = 'HLCA_emb_and_metadata.h5ad'\n",
    "# gdown.download(url, output, quiet=False)"
   ]
  },
  {
   "cell_type": "code",
   "execution_count": 9,
   "metadata": {},
   "outputs": [],
   "source": [
    "url = 'https://zenodo.org/record/6337966/files/HLCA_reference_model.zip'\n",
    "output = 'HLCA_reference_model.zip'\n",
    "# gdown.download(url, output, quiet=False)\n",
    "# shutil.unpack_archive('HLCA_reference_model.zip')\n",
    "# os.remove(output)"
   ]
  },
  {
   "cell_type": "markdown",
   "metadata": {},
   "source": [
    "## Preprocessing"
   ]
  },
  {
   "cell_type": "markdown",
   "metadata": {},
   "source": [
    "As our query data is already cleaned, subset to 2000 genes and downloaded, we simply load it and the reference data."
   ]
  },
  {
   "cell_type": "code",
   "execution_count": 10,
   "metadata": {},
   "outputs": [],
   "source": [
    "adata_ref = sc.read_h5ad('HLCA_emb_and_metadata.h5ad')\n",
    "adata_query_unprep = sc.read_h5ad('HLCA_query.h5ad')"
   ]
  },
  {
   "cell_type": "markdown",
   "metadata": {},
   "source": [
    "Model conversion is needed to switch from the old to the new save format."
   ]
  },
  {
   "cell_type": "code",
   "execution_count": 11,
   "metadata": {},
   "outputs": [],
   "source": [
    "sca.models.SCANVI.convert_legacy_save(\"HLCA_reference_model\", \"HLCA_reference_model\", overwrite=True)"
   ]
  },
  {
   "cell_type": "code",
   "execution_count": 12,
   "metadata": {},
   "outputs": [],
   "source": [
    "ref_model_path = 'HLCA_reference_model'"
   ]
  },
  {
   "cell_type": "code",
   "execution_count": 13,
   "metadata": {},
   "outputs": [
    {
     "name": "stdout",
     "output_type": "stream",
     "text": [
      "\u001b[34mINFO    \u001b[0m File HLCA_reference_model/model.pt already downloaded                                                     \n",
      "\u001b[34mINFO    \u001b[0m Found \u001b[1;36m99.65\u001b[0m% reference vars in query data.                                                                \n"
     ]
    }
   ],
   "source": [
    "adata_query = sca.models.SCANVI.prepare_query_anndata(\n",
    "    adata = adata_query_unprep,\n",
    "    reference_model = ref_model_path,\n",
    "    inplace=False)\n"
   ]
  },
  {
   "cell_type": "markdown",
   "metadata": {},
   "source": [
    "This line should be kept unchanged due to the structure of the pre-trained reference model."
   ]
  },
  {
   "cell_type": "code",
   "execution_count": 14,
   "metadata": {},
   "outputs": [],
   "source": [
    "adata_query.obs['scanvi_label'] = 'unlabeled'"
   ]
  },
  {
   "cell_type": "markdown",
   "metadata": {},
   "source": [
    "## Perform surgery on reference model and train on query dataset without cell type labels"
   ]
  },
  {
   "cell_type": "markdown",
   "metadata": {},
   "source": [
    "### Surgery"
   ]
  },
  {
   "cell_type": "markdown",
   "metadata": {},
   "source": [
    "Now we perform scArches \"surgery\". We pad missing query genes with zeros and reorder the available ones to ensure data corectness and smooth running of the scArches reference mapping."
   ]
  },
  {
   "cell_type": "code",
   "execution_count": 15,
   "metadata": {},
   "outputs": [
    {
     "name": "stdout",
     "output_type": "stream",
     "text": [
      "\u001b[34mINFO    \u001b[0m File HLCA_reference_model/model.pt already downloaded                                                     \n"
     ]
    }
   ],
   "source": [
    "surgery_model = sca.models.SCANVI.load_query_data(\n",
    "        adata_query,\n",
    "        ref_model_path,\n",
    "        freeze_dropout = True,\n",
    "    )"
   ]
  },
  {
   "cell_type": "markdown",
   "metadata": {},
   "source": [
    "### Training"
   ]
  },
  {
   "cell_type": "code",
   "execution_count": 16,
   "metadata": {},
   "outputs": [
    {
     "name": "stdout",
     "output_type": "stream",
     "text": [
      "\u001b[34mINFO    \u001b[0m Training for \u001b[1;36m500\u001b[0m epochs.                                                                                  \n"
     ]
    },
    {
     "name": "stderr",
     "output_type": "stream",
     "text": [
      "INFO:pytorch_lightning.utilities.rank_zero:Multiprocessing is handled by SLURM.\n",
      "INFO:pytorch_lightning.utilities.rank_zero:GPU available: True (cuda), used: True\n",
      "INFO:pytorch_lightning.utilities.rank_zero:TPU available: False, using: 0 TPU cores\n",
      "INFO:pytorch_lightning.utilities.rank_zero:IPU available: False, using: 0 IPUs\n",
      "INFO:pytorch_lightning.utilities.rank_zero:HPU available: False, using: 0 HPUs\n",
      "INFO:pytorch_lightning.accelerators.cuda:LOCAL_RANK: 0 - CUDA_VISIBLE_DEVICES: [0]\n",
      "INFO:pytorch_lightning.trainer.connectors.signal_connector:SLURM auto-requeueing enabled. Setting signal handlers.\n"
     ]
    },
    {
     "name": "stdout",
     "output_type": "stream",
     "text": [
      "Epoch 500/500: 100%|██████████| 500/500 [01:38<00:00,  6.08it/s, loss=510, v_num=1]"
     ]
    },
    {
     "name": "stderr",
     "output_type": "stream",
     "text": [
      "INFO:pytorch_lightning.utilities.rank_zero:`Trainer.fit` stopped: `max_epochs=500` reached.\n"
     ]
    },
    {
     "name": "stdout",
     "output_type": "stream",
     "text": [
      "Epoch 500/500: 100%|██████████| 500/500 [01:38<00:00,  5.05it/s, loss=510, v_num=1]\n"
     ]
    }
   ],
   "source": [
    "surgery_model.train(\n",
    "     max_epochs=surgery_epochs,\n",
    "    **early_stopping_kwargs_surgery\n",
    ")"
   ]
  },
  {
   "cell_type": "markdown",
   "metadata": {},
   "source": [
    "### Save trained surgery model (Optional)"
   ]
  },
  {
   "cell_type": "code",
   "execution_count": 17,
   "metadata": {},
   "outputs": [],
   "source": [
    "surgery_path = 'surgery_model'\n",
    "surgery_model.save(surgery_path, overwrite=True)"
   ]
  },
  {
   "cell_type": "markdown",
   "metadata": {},
   "source": [
    "### Get latent representation"
   ]
  },
  {
   "cell_type": "markdown",
   "metadata": {},
   "source": [
    "Here we will calculate the \"latent representation\", or \"low-dimensional embedding\" of your dataset. This embedding is in the same space as the HLCA core/reference embedding that you loaded in the beginning of the script. Hence, we can combine the two embeddings afterwards (HLCA + your new data), and do joint clustering, UMAP embedding, label transfer etc.!"
   ]
  },
  {
   "cell_type": "code",
   "execution_count": 18,
   "metadata": {},
   "outputs": [],
   "source": [
    "adata_query_latent = sc.AnnData(surgery_model.get_latent_representation(adata_query))\n",
    "adata_query_latent.obs = adata_query.obs.loc[adata_query.obs.index,:]"
   ]
  },
  {
   "cell_type": "markdown",
   "metadata": {},
   "source": [
    "## Combine embeddings"
   ]
  },
  {
   "cell_type": "markdown",
   "metadata": {},
   "source": [
    "We add \"reference or query\" metadata to acquire more information and better analyse the integration level."
   ]
  },
  {
   "cell_type": "code",
   "execution_count": 19,
   "metadata": {},
   "outputs": [],
   "source": [
    "adata_query_latent.obs['ref_or_query'] = \"query\"\n",
    "adata_ref.obs['ref_or_query'] = \"ref\""
   ]
  },
  {
   "cell_type": "markdown",
   "metadata": {},
   "source": [
    "We will now combine the two embeddings to enable joing clustering etc. If you expect non-unique barcodes (.obs index), set index_unique to e.g. \"_\" and batch_key to the obs column that you want to use as barcode suffix (e.g. \"dataset\")."
   ]
  },
  {
   "cell_type": "code",
   "execution_count": 20,
   "metadata": {},
   "outputs": [],
   "source": [
    "# combined_emb = adata_ref.concatenate(adata_query_latent, index_unique=None) # index_unique=\"_\", batch_key=\"dataset\") # alternative"
   ]
  },
  {
   "cell_type": "markdown",
   "metadata": {},
   "source": [
    "We save the combined embeddings (optional)."
   ]
  },
  {
   "cell_type": "code",
   "execution_count": 21,
   "metadata": {},
   "outputs": [],
   "source": [
    "# combined_emb.write_h5ad('combined_embedding.h5ad')"
   ]
  },
  {
   "cell_type": "markdown",
   "metadata": {},
   "source": [
    "Note that if wanted, this embedding can be added to the full, joint HLCA + query data object (including gene counts). The full HLCA, including normalized counts is publicly available. For now, we will just work with the embedding, since that is all we need to perform joint plotting and label transfer."
   ]
  },
  {
   "cell_type": "markdown",
   "metadata": {},
   "source": [
    "## Label transfer"
   ]
  },
  {
   "cell_type": "markdown",
   "metadata": {},
   "source": [
    "Next, we use a knn classifier to transfer the lables from the reference to the query. We do this for every level of the annotation (i.e. level 1-5).\n",
    "Note that some cell types don't have annotations for higher levels, e.g. mast cells do not have level 4 or 5 annotations. For those cell types, we \"propagate\" to the higher levels, i.e. you will see \"3_Mast cells\" in level 4 and 5 annotations. (Most cell types don't have a level 5 annotation!) Therefore, all highest level annotations can be found under level 5."
   ]
  },
  {
   "cell_type": "code",
   "execution_count": 22,
   "metadata": {},
   "outputs": [
    {
     "name": "stderr",
     "output_type": "stream",
     "text": [
      "Downloading...\n",
      "From: https://github.com/LungCellAtlas/mapping_data_to_the_HLCA/raw/main/supporting_files/HLCA_celltypes_ordered.csv\n",
      "To: /home/icb/aleksandra.topalova/scarches/notebooks/HLCA_celltypes_ordered.csv\n",
      "5.81kB [00:00, 10.6MB/s]                   \n"
     ]
    },
    {
     "data": {
      "text/plain": [
       "'HLCA_celltypes_ordered.csv'"
      ]
     },
     "execution_count": 22,
     "metadata": {},
     "output_type": "execute_result"
    }
   ],
   "source": [
    "url = 'https://github.com/LungCellAtlas/mapping_data_to_the_HLCA/raw/main/supporting_files/HLCA_celltypes_ordered.csv'\n",
    "celltypes = 'HLCA_celltypes_ordered.csv'\n",
    "gdown.download(url, celltypes, quiet=False)"
   ]
  },
  {
   "cell_type": "markdown",
   "metadata": {},
   "source": [
    "Import the set of finest cell type labels, and their matching lower-level annotations (cell types are also ordered in a biologically sensible order in this table, you can use this order for downstream plotting etc. if wanted):"
   ]
  },
  {
   "cell_type": "code",
   "execution_count": 23,
   "metadata": {},
   "outputs": [],
   "source": [
    "cts_ordered = pd.read_csv(celltypes,index_col=0)    "
   ]
  },
  {
   "cell_type": "markdown",
   "metadata": {},
   "source": [
    "Now run the label transfer commands. Note that this might take quite a while if you have a large query dataset! For our small test dataset, it should not take long."
   ]
  },
  {
   "cell_type": "markdown",
   "metadata": {},
   "source": [
    "With these commands, we label every cell from the query. However, some cells might have high label transfer uncertainty. It is useful to set those to \"unknown\" instead of giving them a cell type label. This will help highlight cell types/states that are new (i.e. not present in the reference) and possible interesting, they're worth taking a careful look at! We are doing that by setting an uncertainty threshold and enabling the \"unknown\"-prediction."
   ]
  },
  {
   "cell_type": "code",
   "execution_count": 24,
   "metadata": {},
   "outputs": [],
   "source": [
    "ref_obs = adata_ref.obs.join(cts_ordered, on='ann_finest_level')\n",
    "label_list = [i for i in ref_obs.columns if i.startswith('Level')]"
   ]
  },
  {
   "cell_type": "markdown",
   "metadata": {},
   "source": [
    "This uncertainty threshold limits the false positive rate to <0.5 (as per [Sikkema et al., bioRxiv 2022](https://www.biorxiv.org/content/10.1101/2022.03.10.483747v1))"
   ]
  },
  {
   "cell_type": "code",
   "execution_count": 25,
   "metadata": {},
   "outputs": [],
   "source": [
    "uncertainty_threshold = 0.2"
   ]
  },
  {
   "cell_type": "code",
   "execution_count": 26,
   "metadata": {},
   "outputs": [
    {
     "name": "stdout",
     "output_type": "stream",
     "text": [
      "Weighted KNN with n_neighbors = 50\n",
      "Fitting the 50-nearest neighbors transformer from the training dataset.\n",
      "Fitting completed.\n",
      "Finding the 50-neighbors of a point. This may take some time...\n",
      "Neighbors computed.\n",
      "Label transfer begins...\n",
      "Finished!\n",
      "                 Level_1_transferred_label Level_2_transferred_label  \\\n",
      "AAGCGTTTCAGTGCGC               Endothelial              Lymphatic EC   \n",
      "AGCCACGAGGAGTCTG               Endothelial              Lymphatic EC   \n",
      "ATCATTCGTATTTCGG               Endothelial              Lymphatic EC   \n",
      "TGGCGTGCATGTAACC               Endothelial              Lymphatic EC   \n",
      "CTACAGACACTGTGAT               Endothelial             Blood vessels   \n",
      "...                                    ...                       ...   \n",
      "TGATGCACATGGGCAA                Epithelial       Alveolar epithelium   \n",
      "AATGACCAGCCGATTT                    Immune                  Lymphoid   \n",
      "CTCCATGCACTCTAGA                    Stroma        Fibroblast lineage   \n",
      "ATGGGTTAGAGGCGTT                Epithelial       Alveolar epithelium   \n",
      "CGTGTCTCACGCTGTG               Endothelial             Blood vessels   \n",
      "\n",
      "                     Level_3_transferred_label  \\\n",
      "AAGCGTTTCAGTGCGC  Lymphatic EC differentiating   \n",
      "AGCCACGAGGAGTCTG           Lymphatic EC mature   \n",
      "ATCATTCGTATTTCGG  Lymphatic EC differentiating   \n",
      "TGGCGTGCATGTAACC           Lymphatic EC mature   \n",
      "CTACAGACACTGTGAT                     EC venous   \n",
      "...                                        ...   \n",
      "TGATGCACATGGGCAA                           AT1   \n",
      "AATGACCAGCCGATTT                T cell lineage   \n",
      "CTCCATGCACTCTAGA                   Fibroblasts   \n",
      "ATGGGTTAGAGGCGTT                           AT1   \n",
      "CGTGTCTCACGCTGTG                  EC capillary   \n",
      "\n",
      "                       Level_4_transferred_label  \\\n",
      "AAGCGTTTCAGTGCGC  3_Lymphatic EC differentiating   \n",
      "AGCCACGAGGAGTCTG           3_Lymphatic EC mature   \n",
      "ATCATTCGTATTTCGG  3_Lymphatic EC differentiating   \n",
      "TGGCGTGCATGTAACC           3_Lymphatic EC mature   \n",
      "CTACAGACACTGTGAT              EC venous systemic   \n",
      "...                                          ...   \n",
      "TGATGCACATGGGCAA                           3_AT1   \n",
      "AATGACCAGCCGATTT                     CD8 T cells   \n",
      "CTCCATGCACTCTAGA         Adventitial fibroblasts   \n",
      "ATGGGTTAGAGGCGTT                           3_AT1   \n",
      "CGTGTCTCACGCTGTG            EC general capillary   \n",
      "\n",
      "                       Level_5_transferred_label  \n",
      "AAGCGTTTCAGTGCGC  3_Lymphatic EC differentiating  \n",
      "AGCCACGAGGAGTCTG           3_Lymphatic EC mature  \n",
      "ATCATTCGTATTTCGG  3_Lymphatic EC differentiating  \n",
      "TGGCGTGCATGTAACC           3_Lymphatic EC mature  \n",
      "CTACAGACACTGTGAT            4_EC venous systemic  \n",
      "...                                          ...  \n",
      "TGATGCACATGGGCAA                           3_AT1  \n",
      "AATGACCAGCCGATTT                   4_CD8 T cells  \n",
      "CTCCATGCACTCTAGA       4_Adventitial fibroblasts  \n",
      "ATGGGTTAGAGGCGTT                           3_AT1  \n",
      "CGTGTCTCACGCTGTG          4_EC general capillary  \n",
      "\n",
      "[1786 rows x 5 columns]\n",
      "                 Level_1_transfer_uncert Level_2_transfer_uncert  \\\n",
      "AAGCGTTTCAGTGCGC                     0.0                     0.0   \n",
      "AGCCACGAGGAGTCTG                     0.0                     0.0   \n",
      "ATCATTCGTATTTCGG                     0.0                     0.0   \n",
      "TGGCGTGCATGTAACC                     0.0                     0.0   \n",
      "CTACAGACACTGTGAT                     0.0                     0.0   \n",
      "...                                  ...                     ...   \n",
      "TGATGCACATGGGCAA                     0.0                0.020002   \n",
      "AATGACCAGCCGATTT                     0.0                     0.0   \n",
      "CTCCATGCACTCTAGA                     0.0                    0.02   \n",
      "ATGGGTTAGAGGCGTT                     0.0                0.079998   \n",
      "CGTGTCTCACGCTGTG                     0.0                     0.0   \n",
      "\n",
      "                 Level_3_transfer_uncert Level_4_transfer_uncert  \\\n",
      "AAGCGTTTCAGTGCGC                0.440039                0.440039   \n",
      "AGCCACGAGGAGTCTG                0.440002                0.440002   \n",
      "ATCATTCGTATTTCGG                0.359988                0.359988   \n",
      "TGGCGTGCATGTAACC                0.119996                0.119996   \n",
      "CTACAGACACTGTGAT                     0.0                    0.02   \n",
      "...                                  ...                     ...   \n",
      "TGATGCACATGGGCAA                0.020002                0.020002   \n",
      "AATGACCAGCCGATTT                0.179996                0.179996   \n",
      "CTCCATGCACTCTAGA                    0.02                0.239999   \n",
      "ATGGGTTAGAGGCGTT                0.200008                0.200008   \n",
      "CGTGTCTCACGCTGTG                0.340005                0.340005   \n",
      "\n",
      "                 Level_5_transfer_uncert  \n",
      "AAGCGTTTCAGTGCGC                0.440039  \n",
      "AGCCACGAGGAGTCTG                0.440002  \n",
      "ATCATTCGTATTTCGG                0.359988  \n",
      "TGGCGTGCATGTAACC                0.119996  \n",
      "CTACAGACACTGTGAT                    0.02  \n",
      "...                                  ...  \n",
      "TGATGCACATGGGCAA                0.020002  \n",
      "AATGACCAGCCGATTT                0.179996  \n",
      "CTCCATGCACTCTAGA                0.239999  \n",
      "ATGGGTTAGAGGCGTT                0.200008  \n",
      "CGTGTCTCACGCTGTG                0.340005  \n",
      "\n",
      "[1786 rows x 5 columns]\n"
     ]
    },
    {
     "ename": "ValueError",
     "evalue": "Boolean array expected for the condition, not object",
     "output_type": "error",
     "traceback": [
      "\u001b[0;31m---------------------------------------------------------------------------\u001b[0m",
      "\u001b[0;31mValueError\u001b[0m                                Traceback (most recent call last)",
      "Cell \u001b[0;32mIn[26], line 1\u001b[0m\n\u001b[0;32m----> 1\u001b[0m combined_emb \u001b[38;5;241m=\u001b[39m \u001b[43msca\u001b[49m\u001b[38;5;241;43m.\u001b[39;49m\u001b[43mutils\u001b[49m\u001b[38;5;241;43m.\u001b[39;49m\u001b[43mknn\u001b[49m\u001b[38;5;241;43m.\u001b[39;49m\u001b[43mknn_label_transfer\u001b[49m\u001b[43m(\u001b[49m\n\u001b[1;32m      2\u001b[0m \u001b[43m    \u001b[49m\u001b[43mtrain_adata\u001b[49m\u001b[38;5;241;43m=\u001b[39;49m\u001b[43madata_ref\u001b[49m\u001b[43m,\u001b[49m\n\u001b[1;32m      3\u001b[0m \u001b[43m    \u001b[49m\u001b[43mtrain_adata_emb\u001b[49m\u001b[38;5;241;43m=\u001b[39;49m\u001b[38;5;124;43m\"\u001b[39;49m\u001b[38;5;124;43mX\u001b[39;49m\u001b[38;5;124;43m\"\u001b[39;49m\u001b[43m,\u001b[49m\n\u001b[1;32m      4\u001b[0m \u001b[43m    \u001b[49m\u001b[43mref_adata_obs\u001b[49m\u001b[43m \u001b[49m\u001b[38;5;241;43m=\u001b[39;49m\u001b[43m \u001b[49m\u001b[43mref_obs\u001b[49m\u001b[43m,\u001b[49m\n\u001b[1;32m      5\u001b[0m \u001b[43m    \u001b[49m\u001b[43mquery_adata\u001b[49m\u001b[38;5;241;43m=\u001b[39;49m\u001b[43madata_query_latent\u001b[49m\u001b[43m,\u001b[49m\n\u001b[1;32m      6\u001b[0m \u001b[43m    \u001b[49m\u001b[43mquery_adata_emb\u001b[49m\u001b[38;5;241;43m=\u001b[39;49m\u001b[38;5;124;43m\"\u001b[39;49m\u001b[38;5;124;43mX\u001b[39;49m\u001b[38;5;124;43m\"\u001b[39;49m\u001b[43m,\u001b[49m\n\u001b[1;32m      7\u001b[0m \u001b[43m    \u001b[49m\u001b[43mlabel_keys\u001b[49m\u001b[38;5;241;43m=\u001b[39;49m\u001b[43m \u001b[49m\u001b[43mlabel_list\u001b[49m\u001b[43m,\u001b[49m\n\u001b[1;32m      8\u001b[0m \u001b[43m    \u001b[49m\u001b[43mn_neighbors\u001b[49m\u001b[38;5;241;43m=\u001b[39;49m\u001b[38;5;241;43m50\u001b[39;49m\u001b[43m,\u001b[49m\n\u001b[1;32m      9\u001b[0m \u001b[43m    \u001b[49m\u001b[43mthreshold\u001b[49m\u001b[38;5;241;43m=\u001b[39;49m\u001b[43muncertainty_threshold\u001b[49m\u001b[43m,\u001b[49m\n\u001b[1;32m     10\u001b[0m \u001b[43m    \u001b[49m\u001b[43mpred_unknown\u001b[49m\u001b[38;5;241;43m=\u001b[39;49m\u001b[38;5;28;43;01mTrue\u001b[39;49;00m\n\u001b[1;32m     11\u001b[0m \u001b[43m)\u001b[49m\n",
      "File \u001b[0;32m~/scarches/scarches/utils/knn.py:247\u001b[0m, in \u001b[0;36mknn_label_transfer\u001b[0;34m(train_adata, train_adata_emb, query_adata, query_adata_emb, ref_adata_obs, label_keys, n_neighbors, threshold, precomputed, pred_unknown, verbose)\u001b[0m\n\u001b[1;32m    244\u001b[0m combined_emb\u001b[38;5;241m.\u001b[39mobs \u001b[38;5;241m=\u001b[39m combined_emb\u001b[38;5;241m.\u001b[39mobs\u001b[38;5;241m.\u001b[39mjoin(labels)\n\u001b[1;32m    245\u001b[0m combined_emb\u001b[38;5;241m.\u001b[39mobs \u001b[38;5;241m=\u001b[39m combined_emb\u001b[38;5;241m.\u001b[39mobs\u001b[38;5;241m.\u001b[39mjoin(uncert)\n\u001b[0;32m--> 247\u001b[0m combined_emb\u001b[38;5;241m.\u001b[39mobs[uncert] \u001b[38;5;241m=\u001b[39m \u001b[38;5;28mlist\u001b[39m(np\u001b[38;5;241m.\u001b[39marray(\u001b[43mcombined_emb\u001b[49m\u001b[38;5;241;43m.\u001b[39;49m\u001b[43mobs\u001b[49m\u001b[43m[\u001b[49m\u001b[43muncert\u001b[49m\u001b[43m]\u001b[49m))\n\u001b[1;32m    249\u001b[0m combined_emb\u001b[38;5;241m.\u001b[39mobs[labels] \u001b[38;5;241m=\u001b[39m pd\u001b[38;5;241m.\u001b[39mCategorical(combined_emb\u001b[38;5;241m.\u001b[39mobs[labels])\n\u001b[1;32m    251\u001b[0m combined_emb\u001b[38;5;241m.\u001b[39mobs[labels]\u001b[38;5;241m.\u001b[39mreplace(\u001b[38;5;124m'\u001b[39m\u001b[38;5;124mnan\u001b[39m\u001b[38;5;124m'\u001b[39m,np\u001b[38;5;241m.\u001b[39mnan,inplace\u001b[38;5;241m=\u001b[39m\u001b[38;5;28;01mTrue\u001b[39;00m)\n",
      "File \u001b[0;32m~/miniconda3/lib/python3.9/site-packages/pandas/core/frame.py:3011\u001b[0m, in \u001b[0;36mDataFrame.__getitem__\u001b[0;34m(self, key)\u001b[0m\n\u001b[1;32m   3009\u001b[0m \u001b[38;5;66;03m# Do we have a (boolean) DataFrame?\u001b[39;00m\n\u001b[1;32m   3010\u001b[0m \u001b[38;5;28;01mif\u001b[39;00m \u001b[38;5;28misinstance\u001b[39m(key, DataFrame):\n\u001b[0;32m-> 3011\u001b[0m     \u001b[38;5;28;01mreturn\u001b[39;00m \u001b[38;5;28;43mself\u001b[39;49m\u001b[38;5;241;43m.\u001b[39;49m\u001b[43mwhere\u001b[49m\u001b[43m(\u001b[49m\u001b[43mkey\u001b[49m\u001b[43m)\u001b[49m\n\u001b[1;32m   3013\u001b[0m \u001b[38;5;66;03m# Do we have a (boolean) 1d indexer?\u001b[39;00m\n\u001b[1;32m   3014\u001b[0m \u001b[38;5;28;01mif\u001b[39;00m com\u001b[38;5;241m.\u001b[39mis_bool_indexer(key):\n",
      "File \u001b[0;32m~/miniconda3/lib/python3.9/site-packages/pandas/core/generic.py:9286\u001b[0m, in \u001b[0;36mNDFrame.where\u001b[0;34m(self, cond, other, inplace, axis, level, errors, try_cast)\u001b[0m\n\u001b[1;32m   9165\u001b[0m \u001b[38;5;124;03m\"\"\"\u001b[39;00m\n\u001b[1;32m   9166\u001b[0m \u001b[38;5;124;03mReplace values where the condition is {cond_rev}.\u001b[39;00m\n\u001b[1;32m   9167\u001b[0m \n\u001b[0;32m   (...)\u001b[0m\n\u001b[1;32m   9283\u001b[0m \u001b[38;5;124;03m4  True  True\u001b[39;00m\n\u001b[1;32m   9284\u001b[0m \u001b[38;5;124;03m\"\"\"\u001b[39;00m\n\u001b[1;32m   9285\u001b[0m other \u001b[38;5;241m=\u001b[39m com\u001b[38;5;241m.\u001b[39mapply_if_callable(other, \u001b[38;5;28mself\u001b[39m)\n\u001b[0;32m-> 9286\u001b[0m \u001b[38;5;28;01mreturn\u001b[39;00m \u001b[38;5;28;43mself\u001b[39;49m\u001b[38;5;241;43m.\u001b[39;49m\u001b[43m_where\u001b[49m\u001b[43m(\u001b[49m\n\u001b[1;32m   9287\u001b[0m \u001b[43m    \u001b[49m\u001b[43mcond\u001b[49m\u001b[43m,\u001b[49m\u001b[43m \u001b[49m\u001b[43mother\u001b[49m\u001b[43m,\u001b[49m\u001b[43m \u001b[49m\u001b[43minplace\u001b[49m\u001b[43m,\u001b[49m\u001b[43m \u001b[49m\u001b[43maxis\u001b[49m\u001b[43m,\u001b[49m\u001b[43m \u001b[49m\u001b[43mlevel\u001b[49m\u001b[43m,\u001b[49m\u001b[43m \u001b[49m\u001b[43merrors\u001b[49m\u001b[38;5;241;43m=\u001b[39;49m\u001b[43merrors\u001b[49m\u001b[43m,\u001b[49m\u001b[43m \u001b[49m\u001b[43mtry_cast\u001b[49m\u001b[38;5;241;43m=\u001b[39;49m\u001b[43mtry_cast\u001b[49m\n\u001b[1;32m   9288\u001b[0m \u001b[43m\u001b[49m\u001b[43m)\u001b[49m\n",
      "File \u001b[0;32m~/miniconda3/lib/python3.9/site-packages/pandas/core/generic.py:9043\u001b[0m, in \u001b[0;36mNDFrame._where\u001b[0;34m(self, cond, other, inplace, axis, level, errors, try_cast)\u001b[0m\n\u001b[1;32m   9041\u001b[0m         \u001b[38;5;28;01mfor\u001b[39;00m dt \u001b[38;5;129;01min\u001b[39;00m cond\u001b[38;5;241m.\u001b[39mdtypes:\n\u001b[1;32m   9042\u001b[0m             \u001b[38;5;28;01mif\u001b[39;00m \u001b[38;5;129;01mnot\u001b[39;00m is_bool_dtype(dt):\n\u001b[0;32m-> 9043\u001b[0m                 \u001b[38;5;28;01mraise\u001b[39;00m \u001b[38;5;167;01mValueError\u001b[39;00m(msg\u001b[38;5;241m.\u001b[39mformat(dtype\u001b[38;5;241m=\u001b[39mdt))\n\u001b[1;32m   9044\u001b[0m \u001b[38;5;28;01melse\u001b[39;00m:\n\u001b[1;32m   9045\u001b[0m     \u001b[38;5;66;03m# GH#21947 we have an empty DataFrame/Series, could be object-dtype\u001b[39;00m\n\u001b[1;32m   9046\u001b[0m     cond \u001b[38;5;241m=\u001b[39m cond\u001b[38;5;241m.\u001b[39mastype(\u001b[38;5;28mbool\u001b[39m)\n",
      "\u001b[0;31mValueError\u001b[0m: Boolean array expected for the condition, not object"
     ]
    }
   ],
   "source": [
    "combined_emb = sca.utils.knn.knn_label_transfer(\n",
    "    train_adata=adata_ref,\n",
    "    train_adata_emb=\"X\",\n",
    "    ref_adata_obs = ref_obs,\n",
    "    query_adata=adata_query_latent,\n",
    "    query_adata_emb=\"X\",\n",
    "    label_keys= label_list,\n",
    "    n_neighbors=50,\n",
    "    threshold=uncertainty_threshold,\n",
    "    pred_unknown=True\n",
    ")"
   ]
  },
  {
   "cell_type": "markdown",
   "metadata": {},
   "source": [
    "Let's take a look at the percentage of cells set to \"unknown\" after our filtering:"
   ]
  },
  {
   "cell_type": "code",
   "execution_count": null,
   "metadata": {},
   "outputs": [],
   "source": [
    "combined_emb.obs.head(5)"
   ]
  },
  {
   "cell_type": "code",
   "execution_count": null,
   "metadata": {},
   "outputs": [],
   "source": [
    "print(f'Percentage of unknown per level, with uncertainty_threshold={uncertainty_threshold}:')\n",
    "for level in range(1,6):\n",
    "    print(f\"Level {level}: {np.round(sum(combined_emb.obs[f'Level_{level}_transferred_label'] =='Unknown')/adata_query.n_obs*100,2)}%\")"
   ]
  },
  {
   "cell_type": "markdown",
   "metadata": {},
   "source": [
    "## UMAP"
   ]
  },
  {
   "cell_type": "markdown",
   "metadata": {},
   "source": [
    "The UMAP plots help us perform downstream analysis, like clustering, label transfer, integration and more."
   ]
  },
  {
   "cell_type": "markdown",
   "metadata": {},
   "source": [
    "### UMAP Query vs. Reference"
   ]
  },
  {
   "cell_type": "code",
   "execution_count": null,
   "metadata": {},
   "outputs": [],
   "source": [
    "sc.pp.neighbors(combined_emb, n_neighbors=30)\n",
    "sc.tl.umap(combined_emb)\n",
    "sc.pl.umap(\n",
    "        combined_emb,\n",
    "        color='ref_or_query',\n",
    "        frameon=False,\n",
    "        wspace=0.6\n",
    "        )"
   ]
  },
  {
   "cell_type": "markdown",
   "metadata": {
    "tags": []
   },
   "source": [
    "### UMAP Uncertainties "
   ]
  },
  {
   "cell_type": "markdown",
   "metadata": {},
   "source": [
    "Here we show label transfer uncertainties per level. Regions with high uncertainty can highlight interesting cell types/states, not present in the reference. Note that uncertainties will get higher, the more detailed we go:"
   ]
  },
  {
   "cell_type": "code",
   "execution_count": null,
   "metadata": {},
   "outputs": [],
   "source": [
    "sc.pl.umap(\n",
    "    combined_emb,\n",
    "    color=[f'Level_{lev}_transfer_uncert' for lev in range(1,6)],\n",
    "    ncols=3,\n",
    "    frameon=False,\n",
    "    )"
   ]
  },
  {
   "cell_type": "markdown",
   "metadata": {},
   "source": [
    "### UMAP Label Transfer Levels"
   ]
  },
  {
   "cell_type": "markdown",
   "metadata": {},
   "source": [
    "Now let's take a look at the transferred labels, at every level. Note that the color for \"Unknown\" switches per plot."
   ]
  },
  {
   "cell_type": "code",
   "execution_count": null,
   "metadata": {},
   "outputs": [],
   "source": [
    "sc.pl.umap(\n",
    "        combined_emb,\n",
    "        color=[f\"Level_{lev}_transferred_label\" for lev in range(1,6)],\n",
    "        na_color=\"grey\",\n",
    "        ncols=1,\n",
    "        size=0.5\n",
    ")"
   ]
  },
  {
   "cell_type": "markdown",
   "metadata": {},
   "source": [
    "### UMAP Combined highest level annotation"
   ]
  },
  {
   "cell_type": "markdown",
   "metadata": {},
   "source": [
    "For your reference, these are the annotations of the reference atlas:"
   ]
  },
  {
   "cell_type": "code",
   "execution_count": null,
   "metadata": {},
   "outputs": [],
   "source": [
    "sc.pl.umap(\n",
    "    combined_emb,\n",
    "    color='ann_finest_level',\n",
    "    frameon=False,\n",
    "    wspace=0.6\n",
    ")"
   ]
  }
 ],
 "metadata": {
  "kernelspec": {
   "display_name": "Python 3 (ipykernel)",
   "language": "python",
   "name": "python3"
  },
  "language_info": {
   "codemirror_mode": {
    "name": "ipython",
    "version": 3
   },
   "file_extension": ".py",
   "mimetype": "text/x-python",
   "name": "python",
   "nbconvert_exporter": "python",
   "pygments_lexer": "ipython3",
   "version": "3.9.15"
  },
  "vscode": {
   "interpreter": {
    "hash": "f9f85f796d01129d0dd105a088854619f454435301f6ffec2fea96ecbd9be4ac"
   }
  }
 },
 "nbformat": 4,
 "nbformat_minor": 4
}
